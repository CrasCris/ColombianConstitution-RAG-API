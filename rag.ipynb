{
 "cells": [
  {
   "cell_type": "code",
   "execution_count": 3,
   "metadata": {},
   "outputs": [],
   "source": [
    "import ollama \n",
    "import os\n",
    "import pandas as pd\n",
    "import numpy as np\n",
    "from psycopg2.extras import execute_values\n",
    "from pgvector.psycopg2 import register_vector\n",
    "from langchain.document_loaders import PyPDFLoader\n",
    "from langchain.text_splitter import RecursiveCharacterTextSplitter,CharacterTextSplitter\n",
    "from langchain_core.documents import Document\n",
    "from langchain_postgres.vectorstores import PGVector\n",
    "from sqlalchemy import  URL ,create_engine\n"
   ]
  },
  {
   "cell_type": "code",
   "execution_count": 4,
   "metadata": {},
   "outputs": [],
   "source": [
    "# We can use also opensource embeddings models run\n",
    "# from langchain.embeddings.ollama import OllamaEmbeddings\n",
    "# embeddings = OllamaEmbeddings(\n",
    "#     model=\"llama3.1\",\n",
    "# )\n",
    "from dotenv import load_dotenv\n",
    "load_dotenv()\n",
    "\n",
    "from langchain_openai import OpenAIEmbeddings\n",
    "\n",
    "embeddings = OpenAIEmbeddings(\n",
    "    model=\"text-embedding-3-large\",\n",
    ")"
   ]
  },
  {
   "cell_type": "code",
   "execution_count": 5,
   "metadata": {},
   "outputs": [],
   "source": [
    "loader = PyPDFLoader(\"constitucion_colombia.pdf\")\n",
    "documents = loader.load()"
   ]
  },
  {
   "cell_type": "code",
   "execution_count": 6,
   "metadata": {},
   "outputs": [],
   "source": [
    "text_splitter = CharacterTextSplitter(chunk_size=2500, chunk_overlap=100)\n",
    "docs = text_splitter.split_documents(documents)"
   ]
  },
  {
   "cell_type": "code",
   "execution_count": 8,
   "metadata": {},
   "outputs": [],
   "source": [
    "connection_string = URL.create( drivername=\"postgresql\", database=\"postgres\", username=\"postgres\", password=\"julian1234\", host=\"localhost\", port=\"5432\", )\n",
    "engine = create_engine(connection_string)\n",
    "COLLECTION_NAME = \"Constitucion\""
   ]
  },
  {
   "cell_type": "code",
   "execution_count": 9,
   "metadata": {},
   "outputs": [],
   "source": [
    "# Add embeddings in the database\n",
    "vector_store = PGVector.from_documents(\n",
    "    embedding=embeddings,\n",
    "    documents=docs,\n",
    "    collection_name=COLLECTION_NAME,\n",
    "    connection=engine,\n",
    "    pre_delete_collection=False,\n",
    ")"
   ]
  },
  {
   "cell_type": "code",
   "execution_count": 10,
   "metadata": {},
   "outputs": [],
   "source": [
    "pgvector_docsearch = PGVector(\n",
    "    collection_name=COLLECTION_NAME,\n",
    "    connection=engine,\n",
    "    embeddings=embeddings,\n",
    "    use_jsonb=True,\n",
    ")"
   ]
  },
  {
   "cell_type": "code",
   "execution_count": 14,
   "metadata": {},
   "outputs": [
    {
     "data": {
      "text/plain": [
       "[Document(metadata={'page': 36, 'source': 'constitucion_colombia.pdf'}, page_content='serán los colombianos nacionalizados en país extranjero, contra el país de su \\nnueva nacionalidad.  \\nCAPÍTULO 2 \\nDE LA CIUDADANÍ A \\nArtículo 98. La ciudadanía se pierde de hecho cuando se ha renunciado a la \\nnacionalidad, y su ejercicio se puede suspender en virtud de decisión judicial en \\nlos casos que determine la ley.  \\nQuienes hayan sido suspendidos en el ejercicio de la ciudadanía, podrán solicitar \\nsu rehabilitación.  \\nParágrafo . Mientras la ley no decida otra edad, la ciudadanía se ejercerá a partir \\nde los dieciocho años.  \\nArtículo 99. La calidad de ciudadano en ejercicio es condición previa e \\nindispensable para ejercer el derecho de sufragio, para ser elegido y para \\ndesempeñar cargos públicos que lleven anexa autoridad o jurisdicción.  \\nCAPÍTULO 3  \\nDE LOS EXTRANJEROS  \\nArtículo 100. Los ext ranjeros disfrutarán en Colombia de los mismos derechos \\nciviles que se conceden a los colombianos. No obstante, la ley podrá, por razones \\nde orden público, subordinar a condiciones especiales o negar el ejercicio de \\ndeterminados derechos civiles a los extr anjeros.  \\nAsí mismo, los extranjeros gozarán, en el territorio de la República, de las \\ngarantías concedidas a los nacionales, salvo las limitaciones que establezcan la \\nConstitución o la ley.  \\nLos derechos políticos se reservan a los nacionales, pero la ley podrá conceder a \\nlos extranjeros residentes en Colombia el derecho al voto en las elecciones y \\nconsultas populares de carácter municipal o distrital.  \\n    De los Habitantes y Del Territorio                                                                                                                  Artículos 98 - 100 \\n_____________________________________________________________________________'),\n",
       " Document(metadata={'page': 16, 'source': 'constitucion_colombia.pdf'}, page_content='Artículo  16. Todas  las personas tienen derecho al libre desarrollo de su \\npersonalidad sin más limitaciones que las que imponen los derechos de los demás \\ny el orden jurídico.  \\nArtículo  17. Se prohíben la esclavitud, la servidumbre y la trata de seres humanos \\nen todas sus formas.  \\nArtícul o 18. Se garantiza la libertad de conciencia. Nadie será molestado por \\nrazón de sus convicciones o creencias ni compelido a revelarlas ni obligado a \\nactuar contra su conciencia.  \\nArtículo  19. Se garantiza la libertad de cultos. Toda persona t iene derecho a \\nprofesar libremente su religión y a difundirla en forma individual o colectiva.  \\nTodas las confesiones religiosas e iglesias son igualmente libres ante la ley.  \\nArtículo  20. Se garantiza a toda persona la libertad de expresar y difundir su \\npensamiento y opiniones, la de informar y recibir información veraz e imparcial, y \\nla de fundar medios masivos de comunicación.  \\nEstos son libres y tienen responsabilidad social. Se garantiza el derecho a la \\nrectificación en condiciones de equidad. No habrá ce nsura.  \\nArtículo  21. Se garantiza el derecho a la honra. La ley señalará la forma de su \\nprotección.  \\nArtícu lo 22. La paz es un derecho y un deber de obligatorio cumplimiento.  \\nArtículo  23. Toda persona tiene derecho a presentar peticiones respetuosas a las \\nautoridades por motivos de interés general o particular y a obtener pronta \\nresolución. El legislador podrá reglamentar su ejercicio ante organizaciones \\nprivadas para garantizar los derechos fundamentales.  \\nArtículo  24. Todo colombiano, con las limitaciones qu e establezca la ley, tiene \\nderecho a circular libremente por el territorio nacional, a entrar y salir de él, y a \\npermanecer y residenciarse en Colombia.  \\nArtículo  25. El trabajo es un derecho y una obligación social y goza, en todas sus \\nmodalidades, de la e special protección del Estado. Toda persona tiene derecho a \\nun trabajo en condiciones dignas y justas.  \\nArtículo  26. Toda persona es libre de escoger profesión u oficio. La ley podrá \\nexigir títulos de idoneidad. Las autoridades competentes inspeccionarán y vigilarán \\nel ejercicio de las profesiones. Las ocupaciones, artes y oficios que no exijan \\nformación académica son de libre ejercicio, salvo aquellas que impliquen un riesgo \\nsocial.  De los Derechos, las Garantías y los Deberes                                                                                                   Artículos 1 6 -26 \\n_____________________________________________________________________________'),\n",
       " Document(metadata={'page': 35, 'source': 'constitucion_colombia.pdf'}, page_content='TÍTULO  III \\nDE LOS HABITANTES Y DEL TERRITORIO  \\nCAPÍTULO 1  \\nDE LA NACIONALIDAD  \\nArtículo 96. Acto Legislativo 0 1 de 2002, a rtículo 1 . El artículo 96 de la \\nConstitución Política quedará así:  \\nSon nacionales colombianos.  \\n1. Por nacimiento:  \\na) Los naturales de Colombia, que con una de dos condiciones: que el padre o la \\nmadre hayan sido naturales o nacionales colombianos o que, siendo hijos de \\nextranjeros, alguno de sus padres estuviere domiciliado en la República en el \\nmomento del nacimiento y;  \\nb) Los hijos de padre o madre colombianos que hubieren nacido en tierra \\nextranjera y luego   se domiciliaren en territorio colombiano o registraren en una \\noficina consular de la República.  \\n2. Por adopción:  \\na) Los extranjeros que soliciten y obtengan c arta de naturalización, de acuerdo \\ncon la ley, la cual establecerá los casos en los cuales se pierde la nacionalidad \\ncolombiana por adopción;  \\nb) Los Latinoamericanos y del Caribe por nacimiento domiciliados en Colombia, \\nque con autorización del Gobierno y de acuerdo con la ley y el principio de \\nreciprocidad, pidan ser inscritos como colombianos ante la municipalidad donde \\nse establecieren, y;  \\nc) Los miembros de los pueblos indígenas que comparten territorios fronterizos, \\ncon aplicación del principio de reciprocidad según tratados públicos.  \\nNingún colombiano por nacimiento podrá ser privado de su nacionalidad. La \\ncalidad de nacional colombiano n o se pierde por el hecho de adquirir otra \\nnacionalidad. Los nacionales por adopción no estarán obligados a renunciar a \\nsu nacionalidad de origen o adopción. Quienes hayan renunciado a la \\nnacionalidad colombiana podrán recobrarla con arreglo a la ley.  \\nArtículo 97. El colombiano, aunque haya renunciado a la calidad de nacional, que \\nactúe contra los intereses del país en guerra exterior contra Colombia, será \\njuzgado y penado como traidor.  \\nLos colombianos por adopción y los extranjeros domiciliados en Colombi a, no \\npodrán ser obligados a tomar las armas contra su país de origen; tampoco lo  De los Habitantes del Territorio                  Artículos 96  - 97  \\n_____________________________________________________________________________'),\n",
       " Document(metadata={'page': 19, 'source': 'constitucion_colombia.pdf'}, page_content='La estructura interna y el funcionamiento de los sindicatos y organizaciones \\nsociales y gremiales se sujetarán al orden legal y a los principios democráticos.  \\nLa cancelación o la suspensión de la personería jurídica sólo procede por vía \\njudicial.  \\nSe reco noce a los representantes sindicales el fuero y las demás garantías \\nnecesarias para el cumplimiento de su gestión.  \\nNo gozan del derecho de asociación sindical los miembros de la Fuerza Pública.  \\nArtículo  40. Todo ciudadano tiene derecho a participar en la conformación, \\nejercicio y control del poder político. Para hacer efectivo este derecho puede:  \\n1. Elegir y ser elegido.  \\n2. Tomar parte en elecciones, plebiscitos, referendos, consultas populares y otras \\nformas de participación democrática.  \\n3. Constituir partidos, movimientos y agrupaciones políticas sin limitación alguna; \\nformar parte de ellos libremente y difundir sus ideas y programas.  \\n4. Revocar el mandato de los elegidos en los casos y en la forma que establecen \\nla Constitución y la ley.  \\n5. Tener ini ciativa en las corporaciones públicas.  \\n6. Interponer acciones públicas en defensa de la Constitución y de la ley.  \\n7. Acceder al desempeño de funciones y cargos públicos, salvo los colombianos, \\npor nacimiento o por adopción, que tengan doble nacionalidad.  La ley \\nreglamentará esta excepción y determinará los casos a los cuales ha de \\naplicarse.  \\nLas autoridades garantizarán la adecuada y efectiva participación de la mujer en \\nlos niveles decisorios de la Administración Pública.  \\nArtículo  41. En todas las instituciones de educación, oficiales o privadas, serán \\nobligatorios el estudio de la Constitución y la Instrucción Cívica. Así mismo se \\nfomentarán prácticas democráticas para el aprendizaje de los principios y valores \\nde la participación ciudadana. El Est ado divulgará la Constitución.  \\nCAPÍTULO 2  \\nDE LOS DERECHOS SOCIALES, ECON ÓMICOS Y CULTURALES  \\nArtículo  42. La familia es el núcleo fundamental de la sociedad. Se constituye por \\nvínculos naturales o jurídicos, por la decisión libre de un hombre y una mujer de  \\ncontraer matrimonio o por la voluntad responsable de conformarla.  \\nEl Estado y la sociedad garantizan la protección integral de la familia. La ley podrá \\ndeterminar el patrimonio familiar inalienable e inembargable.      De lo s Derechos, las Garantías y los Deberes                                                                                               Artículos 40 - 42 \\n_____________________________________________________________________________')]"
      ]
     },
     "execution_count": 14,
     "metadata": {},
     "output_type": "execute_result"
    }
   ],
   "source": [
    "retriever = pgvector_docsearch.as_retriever()\n",
    "retriever.invoke(\"Que derechos tienen los colombianos?\")"
   ]
  },
  {
   "cell_type": "code",
   "execution_count": 15,
   "metadata": {},
   "outputs": [
    {
     "data": {
      "text/plain": [
       "{'context': [Document(metadata={'page': 16, 'source': 'constitucion_colombia.pdf'}, page_content='Artículo  16. Todas  las personas tienen derecho al libre desarrollo de su \\npersonalidad sin más limitaciones que las que imponen los derechos de los demás \\ny el orden jurídico.  \\nArtículo  17. Se prohíben la esclavitud, la servidumbre y la trata de seres humanos \\nen todas sus formas.  \\nArtícul o 18. Se garantiza la libertad de conciencia. Nadie será molestado por \\nrazón de sus convicciones o creencias ni compelido a revelarlas ni obligado a \\nactuar contra su conciencia.  \\nArtículo  19. Se garantiza la libertad de cultos. Toda persona t iene derecho a \\nprofesar libremente su religión y a difundirla en forma individual o colectiva.  \\nTodas las confesiones religiosas e iglesias son igualmente libres ante la ley.  \\nArtículo  20. Se garantiza a toda persona la libertad de expresar y difundir su \\npensamiento y opiniones, la de informar y recibir información veraz e imparcial, y \\nla de fundar medios masivos de comunicación.  \\nEstos son libres y tienen responsabilidad social. Se garantiza el derecho a la \\nrectificación en condiciones de equidad. No habrá ce nsura.  \\nArtículo  21. Se garantiza el derecho a la honra. La ley señalará la forma de su \\nprotección.  \\nArtícu lo 22. La paz es un derecho y un deber de obligatorio cumplimiento.  \\nArtículo  23. Toda persona tiene derecho a presentar peticiones respetuosas a las \\nautoridades por motivos de interés general o particular y a obtener pronta \\nresolución. El legislador podrá reglamentar su ejercicio ante organizaciones \\nprivadas para garantizar los derechos fundamentales.  \\nArtículo  24. Todo colombiano, con las limitaciones qu e establezca la ley, tiene \\nderecho a circular libremente por el territorio nacional, a entrar y salir de él, y a \\npermanecer y residenciarse en Colombia.  \\nArtículo  25. El trabajo es un derecho y una obligación social y goza, en todas sus \\nmodalidades, de la e special protección del Estado. Toda persona tiene derecho a \\nun trabajo en condiciones dignas y justas.  \\nArtículo  26. Toda persona es libre de escoger profesión u oficio. La ley podrá \\nexigir títulos de idoneidad. Las autoridades competentes inspeccionarán y vigilarán \\nel ejercicio de las profesiones. Las ocupaciones, artes y oficios que no exijan \\nformación académica son de libre ejercicio, salvo aquellas que impliquen un riesgo \\nsocial.  De los Derechos, las Garantías y los Deberes                                                                                                   Artículos 1 6 -26 \\n_____________________________________________________________________________'),\n",
       "  Document(metadata={'page': 35, 'source': 'constitucion_colombia.pdf'}, page_content='TÍTULO  III \\nDE LOS HABITANTES Y DEL TERRITORIO  \\nCAPÍTULO 1  \\nDE LA NACIONALIDAD  \\nArtículo 96. Acto Legislativo 0 1 de 2002, a rtículo 1 . El artículo 96 de la \\nConstitución Política quedará así:  \\nSon nacionales colombianos.  \\n1. Por nacimiento:  \\na) Los naturales de Colombia, que con una de dos condiciones: que el padre o la \\nmadre hayan sido naturales o nacionales colombianos o que, siendo hijos de \\nextranjeros, alguno de sus padres estuviere domiciliado en la República en el \\nmomento del nacimiento y;  \\nb) Los hijos de padre o madre colombianos que hubieren nacido en tierra \\nextranjera y luego   se domiciliaren en territorio colombiano o registraren en una \\noficina consular de la República.  \\n2. Por adopción:  \\na) Los extranjeros que soliciten y obtengan c arta de naturalización, de acuerdo \\ncon la ley, la cual establecerá los casos en los cuales se pierde la nacionalidad \\ncolombiana por adopción;  \\nb) Los Latinoamericanos y del Caribe por nacimiento domiciliados en Colombia, \\nque con autorización del Gobierno y de acuerdo con la ley y el principio de \\nreciprocidad, pidan ser inscritos como colombianos ante la municipalidad donde \\nse establecieren, y;  \\nc) Los miembros de los pueblos indígenas que comparten territorios fronterizos, \\ncon aplicación del principio de reciprocidad según tratados públicos.  \\nNingún colombiano por nacimiento podrá ser privado de su nacionalidad. La \\ncalidad de nacional colombiano n o se pierde por el hecho de adquirir otra \\nnacionalidad. Los nacionales por adopción no estarán obligados a renunciar a \\nsu nacionalidad de origen o adopción. Quienes hayan renunciado a la \\nnacionalidad colombiana podrán recobrarla con arreglo a la ley.  \\nArtículo 97. El colombiano, aunque haya renunciado a la calidad de nacional, que \\nactúe contra los intereses del país en guerra exterior contra Colombia, será \\njuzgado y penado como traidor.  \\nLos colombianos por adopción y los extranjeros domiciliados en Colombi a, no \\npodrán ser obligados a tomar las armas contra su país de origen; tampoco lo  De los Habitantes del Territorio                  Artículos 96  - 97  \\n_____________________________________________________________________________'),\n",
       "  Document(metadata={'page': 0, 'source': 'constitucion_colombia.pdf'}, page_content='Constitución Política de Colombia  \\n \\n \\n \\n \\n \\n \\n \\n \\n \\n \\n \\n \\n \\n \\n \\n \\n \\n \\n \\n \\n \\n \\n \\n \\n \\n \\n \\n \\n \\n \\n2016'),\n",
       "  Document(metadata={'page': 36, 'source': 'constitucion_colombia.pdf'}, page_content='serán los colombianos nacionalizados en país extranjero, contra el país de su \\nnueva nacionalidad.  \\nCAPÍTULO 2 \\nDE LA CIUDADANÍ A \\nArtículo 98. La ciudadanía se pierde de hecho cuando se ha renunciado a la \\nnacionalidad, y su ejercicio se puede suspender en virtud de decisión judicial en \\nlos casos que determine la ley.  \\nQuienes hayan sido suspendidos en el ejercicio de la ciudadanía, podrán solicitar \\nsu rehabilitación.  \\nParágrafo . Mientras la ley no decida otra edad, la ciudadanía se ejercerá a partir \\nde los dieciocho años.  \\nArtículo 99. La calidad de ciudadano en ejercicio es condición previa e \\nindispensable para ejercer el derecho de sufragio, para ser elegido y para \\ndesempeñar cargos públicos que lleven anexa autoridad o jurisdicción.  \\nCAPÍTULO 3  \\nDE LOS EXTRANJEROS  \\nArtículo 100. Los ext ranjeros disfrutarán en Colombia de los mismos derechos \\nciviles que se conceden a los colombianos. No obstante, la ley podrá, por razones \\nde orden público, subordinar a condiciones especiales o negar el ejercicio de \\ndeterminados derechos civiles a los extr anjeros.  \\nAsí mismo, los extranjeros gozarán, en el territorio de la República, de las \\ngarantías concedidas a los nacionales, salvo las limitaciones que establezcan la \\nConstitución o la ley.  \\nLos derechos políticos se reservan a los nacionales, pero la ley podrá conceder a \\nlos extranjeros residentes en Colombia el derecho al voto en las elecciones y \\nconsultas populares de carácter municipal o distrital.  \\n    De los Habitantes y Del Territorio                                                                                                                  Artículos 98 - 100 \\n_____________________________________________________________________________')],\n",
       " 'question': 'Quienes son libres en colombia?'}"
      ]
     },
     "execution_count": 15,
     "metadata": {},
     "output_type": "execute_result"
    }
   ],
   "source": [
    "from langchain_core.runnables import RunnableParallel, RunnablePassthrough\n",
    "setup = RunnableParallel(context=retriever, question=RunnablePassthrough())\n",
    "setup.invoke(\"Quienes son libres en colombia?\")"
   ]
  },
  {
   "cell_type": "code",
   "execution_count": 16,
   "metadata": {},
   "outputs": [],
   "source": [
    "from langchain_core.output_parsers import StrOutputParser\n",
    "from langchain_openai.chat_models import ChatOpenAI\n",
    "\n",
    "parser = StrOutputParser()\n",
    "llm = ChatOpenAI(model='gpt-4o-mini-2024-07-18')\n",
    "\n",
    "\n",
    "from langchain.prompts import ChatPromptTemplate\n",
    "\n",
    "template = \"\"\"\n",
    "Responde las preguntas que te hagan basandote en el contexto, \n",
    "eres un asistente que responde preguntas sobre la consitutcion politica de colombia\n",
    "Context: {context}\n",
    "Question: {question}\n",
    "\"\"\"\n",
    "\n",
    "prompt = ChatPromptTemplate.from_template(template)\n",
    "\n",
    "chain = setup | prompt | llm | parser"
   ]
  },
  {
   "cell_type": "code",
   "execution_count": 17,
   "metadata": {},
   "outputs": [
    {
     "data": {
      "text/plain": [
       "'En Colombia, todas las personas son libres en el sentido de que tienen derecho al libre desarrollo de su personalidad, según lo establecido en el Artículo 16 de la Constitución Política. Esto significa que cada individuo tiene la libertad de actuar conforme a su propia personalidad, siempre y cuando no infrinja los derechos de los demás y se ajuste al orden jurídico. Además, se garantiza la libertad de conciencia (Artículo 18), la libertad de cultos (Artículo 19), y la libertad de expresar y difundir pensamientos y opiniones (Artículo 20), lo que refuerza la idea de que todas las personas son libres en el país.'"
      ]
     },
     "execution_count": 17,
     "metadata": {},
     "output_type": "execute_result"
    }
   ],
   "source": [
    "chain.invoke(\"Que personas son libres en colombia?\")"
   ]
  }
 ],
 "metadata": {
  "kernelspec": {
   "display_name": "cuda",
   "language": "python",
   "name": "python3"
  },
  "language_info": {
   "codemirror_mode": {
    "name": "ipython",
    "version": 3
   },
   "file_extension": ".py",
   "mimetype": "text/x-python",
   "name": "python",
   "nbconvert_exporter": "python",
   "pygments_lexer": "ipython3",
   "version": "3.10.3"
  }
 },
 "nbformat": 4,
 "nbformat_minor": 2
}
